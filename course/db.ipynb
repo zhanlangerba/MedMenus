{
 "cells": [
  {
   "cell_type": "markdown",
   "metadata": {},
   "source": [
    "这个 DBConnection 类是一个线程安全的单例数据库连接管理器，专门为 PostgreSQL 设计，同时兼容 Supabase 的 API 风格。"
   ]
  },
  {
   "cell_type": "markdown",
   "metadata": {},
   "source": [
    "核心作用\n",
    "连接池管理：使用 asyncpg 创建和管理 PostgreSQL 连接池\n",
    "单例模式：确保整个应用只有一个数据库连接实例\n",
    "线程安全：使用双重检查锁定模式保证多线程环境下的安全性\n",
    "Supabase 兼容：提供类似 Supabase 的查询构建器 API"
   ]
  }
 ],
 "metadata": {
  "language_info": {
   "name": "python"
  }
 },
 "nbformat": 4,
 "nbformat_minor": 2
}
